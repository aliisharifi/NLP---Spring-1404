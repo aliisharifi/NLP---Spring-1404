{
 "cells": [
  {
   "cell_type": "code",
   "execution_count": null,
   "id": "26cfcae5",
   "metadata": {},
   "outputs": [],
   "source": [
    "import os\n",
    "\n",
    "import fitz"
   ]
  },
  {
   "cell_type": "code",
   "execution_count": null,
   "id": "83f36421",
   "metadata": {},
   "outputs": [],
   "source": [
    "BOOKS_DIR = ''\n",
    "DATA_DIR = ''"
   ]
  },
  {
   "cell_type": "code",
   "execution_count": null,
   "id": "643bf784",
   "metadata": {},
   "outputs": [],
   "source": [
    "for fname in os.listdir(BOOKS_DIR):\n",
    "    doc = fitz.open(os.path.join(BOOKS_DIR, fname))\n",
    "    lines = []\n",
    "    for page in doc:\n",
    "        lines.append(page.get_text())\n",
    "    with open(os.path.join(DATA_DIR, f'{fname[:-len('.pdf')]}.txt'), 'w+') as f:\n",
    "        f.write('\\n'.join(lines))"
   ]
  }
 ],
 "metadata": {
  "kernelspec": {
   "display_name": "nlp-spring1404-juIwDZ-T-py3.10",
   "language": "python",
   "name": "python3"
  },
  "language_info": {
   "codemirror_mode": {
    "name": "ipython",
    "version": 3
   },
   "file_extension": ".py",
   "mimetype": "text/x-python",
   "name": "python",
   "nbconvert_exporter": "python",
   "pygments_lexer": "ipython3",
   "version": "3.10.12"
  }
 },
 "nbformat": 4,
 "nbformat_minor": 5
}
