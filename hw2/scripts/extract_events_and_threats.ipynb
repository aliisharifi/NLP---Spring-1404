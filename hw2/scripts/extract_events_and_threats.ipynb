{
 "cells": [
  {
   "cell_type": "code",
   "execution_count": 2,
   "id": "d9030ecf",
   "metadata": {},
   "outputs": [],
   "source": [
    "import json"
   ]
  },
  {
   "cell_type": "code",
   "execution_count": 3,
   "id": "67962a23",
   "metadata": {},
   "outputs": [],
   "source": [
    "def format_list(list_data, sign):\n",
    "    if isinstance(list_data, list):\n",
    "        return f\"{sign} \".join(str(item).strip() for item in list_data if item)\n",
    "    elif isinstance(list_data, str):\n",
    "        return list_data.strip()\n",
    "    else:\n",
    "        return ''\n",
    "    \n",
    "def read_file(file_path):\n",
    "    with open(file_path, 'r', encoding='utf-8') as f:\n",
    "        return json.load(f)\n",
    "    \n",
    "def save_to_file(file_path, content):    \n",
    "    with open(file_path, 'w', encoding='utf-8') as f_out:\n",
    "        json.dump(content, f_out, ensure_ascii=False, indent=4)\n",
    "        print(f\"Extraction complete! Saved {len(content)} items.\")\n"
   ]
  },
  {
   "cell_type": "code",
   "execution_count": 59,
   "id": "f599414c",
   "metadata": {},
   "outputs": [],
   "source": [
    "data = read_file(\"../raw_data/Treaties.json\")"
   ]
  },
  {
   "cell_type": "code",
   "execution_count": 60,
   "id": "20e24c20",
   "metadata": {},
   "outputs": [],
   "source": [
    "output = []\n",
    "for item in data:\n",
    "    title = item['data'].get('title', '')\n",
    "    description = format_list(item['data'].get('description', []),\".\")\n",
    "    year = item['data'].get('period', {}).get('year', '')\n",
    "    city = item['data'].get('location', {}).get('city', '')\n",
    "    coordinates = item['data'].get('location', {}).get('coordinates', {})\n",
    "    latitude = coordinates.get('latitude', '')\n",
    "    longitude = coordinates.get('longitude', '')\n",
    "    causes = format_list(item['data'].get('causes', []),\",\")\n",
    "    belligerents = format_list(item['data'].get('belligerents', []),\",\")\n",
    "    result = item['data'].get('result', '')\n",
    "    impact = format_list(item['data'].get('impact', []),\".\")\n",
    "    historical_significance = item['data'].get('historical_significance', '')\n",
    "    \n",
    "    text = []\n",
    "    \n",
    "    if description:\n",
    "        text.append(description)\n",
    "    if year:\n",
    "        text.append(f\"این رویداد در سال {year} رخ داده است.\")\n",
    "    if city:\n",
    "        text.append(f\"مکان وقوع آن شهر {city} بوده است.\")\n",
    "    if latitude != 0 and longitude != 0:\n",
    "        text.append(f\"مختصات جغرافیایی این رویداد برابر است با عرض جغرافیایی {latitude} و طول جغرافیایی {longitude}.\")\n",
    "    if causes:\n",
    "        text.append(f\"دلایل آن عبارتند از: {causes}\")\n",
    "    if belligerents:\n",
    "        text.append(f\"طرف های درگیر در این واقعه {belligerents} بوده اند.\")\n",
    "    if result:\n",
    "        text.append(f\"نتیجه: {result}\")\n",
    "    if impact:\n",
    "        text.append(f\"تاثیرات: {impact}\")\n",
    "    if historical_significance:\n",
    "        text.append(f\"اهمیت تاریخی آن: {historical_significance}\")\n",
    "    \n",
    "    full_text = ' '.join(text)\n",
    "    output.append({\n",
    "        \"event\": title,\n",
    "        \"text\": full_text,\n",
    "        \"questions\": [] \n",
    "    })    "
   ]
  },
  {
   "cell_type": "code",
   "execution_count": 61,
   "id": "4057de28",
   "metadata": {},
   "outputs": [
    {
     "name": "stdout",
     "output_type": "stream",
     "text": [
      "Extraction complete! Saved 127 items.\n"
     ]
    }
   ],
   "source": [
    "save_to_file(\"../processed_data/Treaties.json\",output)"
   ]
  },
  {
   "cell_type": "code",
   "execution_count": 4,
   "id": "045454fb",
   "metadata": {},
   "outputs": [],
   "source": [
    "data = read_file(\"../raw_data/EVENTS.json\")"
   ]
  },
  {
   "cell_type": "code",
   "execution_count": 7,
   "id": "e9c0bc41",
   "metadata": {},
   "outputs": [],
   "source": [
    "output = []\n",
    "for item in data:\n",
    "    title = item['data'].get('title', '')\n",
    "    description = format_list(item['data'].get('description', []),\".\")\n",
    "    start_year = item['data'].get('period', {}).get('start_year', '')\n",
    "    end_year = item['data'].get('period', {}).get('end_year', '')\n",
    "    province = item['data'].get('location', {}).get('province', '')\n",
    "    city = item['data'].get('location', {}).get('city', '')\n",
    "    coordinates = item['data'].get('location', {}).get('coordinates', {})\n",
    "    latitude = coordinates.get('latitude', '')\n",
    "    longitude = coordinates.get('longitude', '')\n",
    "    ref_title = item['data'].get('refrences', {}).get('title', '')\n",
    "    author = item['data'].get('refrences', {}).get('author', '')\n",
    "    ref_year = item['data'].get('refrences', {}).get('year', '')\n",
    "    \n",
    "    text = []\n",
    "     \n",
    "    if description:\n",
    "        text.append(description)\n",
    "    if start_year:\n",
    "        text.append(f\"این رویداد در سال {start_year} شروع شده است.\")\n",
    "    if end_year:\n",
    "        text.append(f\"اتمام آن در سال {end_year} بوده است.\")\n",
    "    if province:\n",
    "        text.append(f\"این واقعه در استان {province} رخ داده است.\")\n",
    "    if city:\n",
    "        text.append(f\"شهر آن {city} بوده است.\")\n",
    "    if latitude != '<TBD>' and longitude != '<TBD>':\n",
    "        text.append(f\"مختصات جغرافیایی این رویداد برابر است با عرض جغرافیایی {latitude} و طول جغرافیایی {longitude}.\")\n",
    "    if author:\n",
    "        text.append(f\"نویسنده این متن {author} است.\")    \n",
    "    if ref_title:\n",
    "        text.append(f\"این متن از منبع {ref_title} بدست آمده است.\")\n",
    "    if ref_year:\n",
    "        text.append(f\"در سال {ref_year} گرده اوری شده است.\")\n",
    "        \n",
    "    full_text = ' '.join(text)\n",
    "    output.append({\n",
    "        \"event\": title,\n",
    "        \"text\": full_text,\n",
    "        \"questions\": [] \n",
    "    })    "
   ]
  },
  {
   "cell_type": "code",
   "execution_count": 8,
   "id": "909c9776",
   "metadata": {},
   "outputs": [
    {
     "name": "stdout",
     "output_type": "stream",
     "text": [
      "Extraction complete! Saved 100 items.\n"
     ]
    }
   ],
   "source": [
    "save_to_file(\"../processed_data/Events.json\",output)"
   ]
  }
 ],
 "metadata": {
  "kernelspec": {
   "display_name": "Python 3",
   "language": "python",
   "name": "python3"
  },
  "language_info": {
   "codemirror_mode": {
    "name": "ipython",
    "version": 3
   },
   "file_extension": ".py",
   "mimetype": "text/x-python",
   "name": "python",
   "nbconvert_exporter": "python",
   "pygments_lexer": "ipython3",
   "version": "3.13.3"
  }
 },
 "nbformat": 4,
 "nbformat_minor": 5
}
